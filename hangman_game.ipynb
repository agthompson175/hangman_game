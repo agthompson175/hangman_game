{
 "cells": [
  {
   "cell_type": "code",
   "execution_count": null,
   "id": "0ab941d3",
   "metadata": {},
   "outputs": [],
   "source": []
  },
  {
   "cell_type": "code",
   "execution_count": null,
   "id": "4f400953",
   "metadata": {},
   "outputs": [],
   "source": []
  },
  {
   "cell_type": "code",
   "execution_count": 16,
   "id": "25a07b93",
   "metadata": {},
   "outputs": [
    {
     "name": "stdout",
     "output_type": "stream",
     "text": [
      "you suck at this game, your word was BASEBALL\n",
      " b  a  __ e  b  a  l  l "
     ]
    }
   ],
   "source": [
    "import random\n",
    "from IPython.display import clear_output as co\n",
    "\n",
    "\n",
    "class Words: \n",
    "    word_dict = {'space' : ['moon', 'sun', 'star', 'galaxy', 'universe', 'ship', 'pluto', 'planet', 'asteroid'],\n",
    "        'animals' : ['cow', 'bird', 'lion', 'cat', 'dog', 'peacock', 'llama', 'dolphin'],\n",
    "        'sports' :  ['hockey', 'football', 'baseball', 'cricket', 'rugby']}\n",
    "\n",
    "    def get_random_word(self, category):\n",
    "        return random.choice(self.word_dict[category])\n",
    "        \n",
    "\n",
    "class HiddenWord(Words):\n",
    "    pass\n",
    "        \n",
    "\n",
    "\n",
    "        \n",
    "class Game: \n",
    "    \n",
    "    @classmethod\n",
    "    def run(self):\n",
    "        print('Welcome to Hangman, you have 7 tries to guess the letters of a word')\n",
    "        \n",
    "        \n",
    "        confirmation = input(\"Would you like to play? Y/N? \").lower()\n",
    "        if confirmation == 'n':\n",
    "            done = True\n",
    "        elif confirmation == 'y':\n",
    "            co()\n",
    "            print('Thank you for playing!')\n",
    "            category_choice = input('Which Category would you like to choose from? \\nSpace, Animals, Sports ').lower()\n",
    "            \n",
    "            active_word=HiddenWord()\n",
    "            hidden_word = active_word.get_random_word(category_choice)\n",
    "            \n",
    "            \n",
    "            print('your hidden word is below: \\n')\n",
    "            \n",
    "            guessed_letters=[]\n",
    "            tries=7\n",
    "            print('__ '*len(hidden_word))\n",
    "            game_over = False\n",
    "            \n",
    "            while not game_over:\n",
    "                \n",
    "                guess = input('Please guess a letter you have ' +str(tries)+ ' incorrect tries remaining! ').lower()\n",
    "                guessed_letters.append(guess)\n",
    "                co()\n",
    "                print('Category: ' + category_choice + '\\nSo far you guessed' + str(guessed_letters) + '\\n')\n",
    "                \n",
    "                \n",
    "                if guess not in hidden_word:\n",
    "                    tries -=1\n",
    "                    if tries < 1:\n",
    "                        co()\n",
    "                        print('you suck at this game, your word was ' + hidden_word.upper())\n",
    "                        game_over = True\n",
    "\n",
    "                \n",
    "                xlist=[]\n",
    "                wordlist=list(hidden_word)\n",
    "                \n",
    "                for x in hidden_word:   \n",
    "                    if x in guessed_letters:\n",
    "                        xlist.append(x)\n",
    "                        print(' ' + x + ' ', end='')\n",
    "                        if sorted(xlist)==sorted(wordlist):\n",
    "                            co()\n",
    "                            print('Congratulations! You Won!!\\nYour word was ' + hidden_word)\n",
    "                            game_over=True\n",
    "                    elif x not in guessed_letters:\n",
    "                        print(' __', end='')\n",
    "                \n",
    "\n",
    "\n",
    "Game.run()"
   ]
  },
  {
   "cell_type": "code",
   "execution_count": null,
   "id": "4ffe9204",
   "metadata": {},
   "outputs": [],
   "source": []
  },
  {
   "cell_type": "code",
   "execution_count": null,
   "id": "96461c7d",
   "metadata": {},
   "outputs": [],
   "source": []
  },
  {
   "cell_type": "code",
   "execution_count": null,
   "id": "57bebdb7",
   "metadata": {},
   "outputs": [],
   "source": []
  }
 ],
 "metadata": {
  "kernelspec": {
   "display_name": "Python 3",
   "language": "python",
   "name": "python3"
  },
  "language_info": {
   "codemirror_mode": {
    "name": "ipython",
    "version": 3
   },
   "file_extension": ".py",
   "mimetype": "text/x-python",
   "name": "python",
   "nbconvert_exporter": "python",
   "pygments_lexer": "ipython3",
   "version": "3.9.5"
  }
 },
 "nbformat": 4,
 "nbformat_minor": 5
}
